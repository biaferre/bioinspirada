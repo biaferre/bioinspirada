{
  "cells": [
    {
      "cell_type": "markdown",
      "metadata": {
        "colab_type": "text",
        "id": "view-in-github"
      },
      "source": [
        "<a href=\"https://colab.research.google.com/github/biaferre/bioinspirada/blob/main/Finding_Primes.ipynb\" target=\"_parent\"><img src=\"https://colab.research.google.com/assets/colab-badge.svg\" alt=\"Open In Colab\"/></a>"
      ]
    },
    {
      "cell_type": "markdown",
      "metadata": {
        "id": "YMiNlUCYwOTY"
      },
      "source": [
        "# Encontrando números primos / Finding primes\n",
        "\n",
        "> Disciplina de Tópicos Avançados em IA: Algoritmos Bioinspirados | CIn UFPE 2025.1\n",
        "\n",
        "> Grupo: Beatriz Férre e Ronald Silva\n",
        "\n",
        "Exercício em Python para encontrar primos dentro de um intervalo de números inteiros com mais de 6 casas decimais. Experimentações com testes de primalidade, tamanho populacional e intervalo da busca, métodos de seleção (torneio x roleta), representações com inteiros e funções de combinação e mutação pra inteiros.\n",
        "\n",
        "/ Python exercise to find prime numbers within a range of integers with more than 6 digits. Experiments with primality tests, population size and search range, selection methods (tournament vs. roulette), representations using integers, and combination and mutation functions for integers."
      ]
    },
    {
      "cell_type": "markdown",
      "metadata": {
        "id": "rBQYh7RFxXd4"
      },
      "source": [
        "### Parâmetros iniciais"
      ]
    },
    {
      "cell_type": "code",
      "execution_count": 159,
      "metadata": {
        "id": "vYpt5JpILV8E"
      },
      "outputs": [],
      "source": [
        "import random\n",
        "\n",
        "MIN_VAL = 10**5\n",
        "MAX_VAL = 10**7\n",
        "POP_SIZE = 5\n",
        "GEN = 100"
      ]
    },
    {
      "cell_type": "markdown",
      "metadata": {
        "id": "qwB8qmdRx-wZ"
      },
      "source": [
        "### Código base\n",
        "Fornecida na monitoria para ser aprimorada nas seções subsequentes."
      ]
    },
    {
      "cell_type": "code",
      "execution_count": null,
      "metadata": {
        "id": "-utAofftx99l",
        "outputId": "9010b356-eff3-44ac-f3bc-6d6608ddc903"
      },
      "outputs": [
        {
          "name": "stdout",
          "output_type": "stream",
          "text": [
            "Geração 0: Melhor fitness = 0.33333, Melhor indivíduo = 904018\n",
            "Geração 1: Melhor fitness = 0.33333, Melhor indivíduo = 969554\n",
            "Geração 2: Melhor fitness = 1000.00000, Melhor indivíduo = 674083\n",
            "\n",
            "✅ Primo encontrado na geração 2: 674083\n"
          ]
        },
        {
          "data": {
            "text/plain": [
              "674083"
            ]
          },
          "execution_count": 67,
          "metadata": {},
          "output_type": "execute_result"
        }
      ],
      "source": [
        "# Checar se o número é primo\n",
        "def is_prime(n):\n",
        "    if n < 2:\n",
        "        return False\n",
        "    for i in range(2, int(n**0.5)+1):\n",
        "        if n % i == 0:\n",
        "            return False\n",
        "    return True\n",
        "\n",
        "# Função de fitness: 1 se primo, senão penaliza pelo número de divisores\n",
        "def fitness(n):\n",
        "    if is_prime(n):\n",
        "        return 1000  # grande valor de fitness\n",
        "    else:\n",
        "        divisores = sum(1 for i in range(2, n) if n % i == 0)\n",
        "        return 1 / (divisores + 1)\n",
        "\n",
        "# Inicializa a população de inteiros\n",
        "def init_population(size, min_val, max_val):\n",
        "    return [random.randint(min_val, max_val) for _ in range(size)]\n",
        "\n",
        "# Seleção: Torneio binário\n",
        "def selection(population, fitnesses):\n",
        "    selected = []\n",
        "    for _ in range(len(population)):\n",
        "        if len(population) < 2:\n",
        "            return population  # evita erro se houver apenas 1 indivíduo\n",
        "        i, j = random.sample(range(len(population)), 2)\n",
        "        selected.append(population[i] if fitnesses[i] > fitnesses[j] else population[j])\n",
        "    return selected\n",
        "\n",
        "# Crossover: combinação de bits\n",
        "def crossover(parent1, parent2):\n",
        "    p1 = format(parent1, 'b')\n",
        "    p2 = format(parent2, 'b')\n",
        "    max_len = max(len(p1), len(p2))\n",
        "    p1 = p1.zfill(max_len)\n",
        "    p2 = p2.zfill(max_len)\n",
        "    point = random.randint(1, max_len - 1)\n",
        "    child_bin = p1[:point] + p2[point:]\n",
        "    return int(child_bin, 2)\n",
        "\n",
        "# Mutação: troca aleatória de bits\n",
        "def mutate(n, mutation_rate=0.05): # aumentar 0.2\n",
        "    bits = list(format(n, 'b'))\n",
        "    for i in range(len(bits)):\n",
        "        if random.random() < mutation_rate:\n",
        "            bits[i] = '1' if bits[i] == '0' else '0'\n",
        "    return int(''.join(bits), 2)\n",
        "\n",
        "# Algoritmo evolutivo\n",
        "def evolutionary_prime_search(pop_size=10, min_val=10**5, max_val=10**6, generations=100):\n",
        "    population = init_population(pop_size, min_val, max_val)\n",
        "\n",
        "    for gen in range(generations):\n",
        "        fitnesses = [fitness(ind) for ind in population]\n",
        "\n",
        "        # Melhor indivíduo da geração\n",
        "        best_idx = fitnesses.index(max(fitnesses))\n",
        "        best_ind = population[best_idx]\n",
        "        best_fit = fitnesses[best_idx]\n",
        "\n",
        "        print(f\"Geração {gen}: Melhor fitness = {best_fit:.5f}, Melhor indivíduo = {best_ind}\")\n",
        "\n",
        "        # Verifica se encontrou um primo\n",
        "        if best_fit == 1000:\n",
        "            print(f\"\\n✅ Primo encontrado na geração {gen}: {best_ind}\")\n",
        "            return best_ind\n",
        "\n",
        "        # Seleção\n",
        "        selected = selection(population, fitnesses)\n",
        "\n",
        "        # Crossover com reposição até manter o tamanho original\n",
        "        next_population = []\n",
        "        while len(next_population) < pop_size:\n",
        "            p1, p2 = random.sample(selected, 2)\n",
        "            child = crossover(p1, p2)\n",
        "            next_population.append(child)\n",
        "\n",
        "        # Mutação\n",
        "        population = [mutate(ind) for ind in next_population]\n",
        "\n",
        "    print(\"\\n❌ Nenhum primo encontrado após todas as gerações.\")\n",
        "    return None\n",
        "\n",
        "# Executa o algoritmo\n",
        "evolutionary_prime_search()"
      ]
    },
    {
      "cell_type": "markdown",
      "metadata": {
        "id": "jZk3xJEbyHCs"
      },
      "source": [
        "### Experimentações\n",
        "Para começar, como estamos encontrando o valor muito cedo nas gerações, vamos mudar nosso MIN e MAX_VALUE pra ordens de grandeza maiores, onde os primos são mais rarefeitos. Logo, vai demorar mais pra convergir, e teremos curvas melhores."
      ]
    },
    {
      "cell_type": "code",
      "execution_count": 160,
      "metadata": {
        "id": "0zNq6uDbl3Yr"
      },
      "outputs": [],
      "source": [
        "MIN_VAL = 10**8\n",
        "MAX_VAL = 10**12"
      ]
    },
    {
      "cell_type": "markdown",
      "metadata": {
        "id": "ThF0_rd8iKX4"
      },
      "source": [
        "#### 1. Teste de primalidade e definição de fitness\n",
        "O teste do código base de primalidade consiste apenas em iterar por todos os valores de 2 a raiz de n e ver se há algum divisor de n. É um teste pouco robusto e custoso. Do mesmo modo, seu fitness é definido com base em quantos divisores um número não primo tem, retornando 1000 se for primo."
      ]
    },
    {
      "cell_type": "code",
      "execution_count": 145,
      "metadata": {
        "id": "1lyySZBHiKX4"
      },
      "outputs": [],
      "source": [
        "# Primalidade\n",
        "def is_prime(n):\n",
        "    if n < 2:\n",
        "        return False\n",
        "    for i in range(2, int(n**0.5)+1):\n",
        "        if n % i == 0:\n",
        "            return False\n",
        "    return True\n",
        "\n",
        "# Função de fitness: 1 se primo, senão penaliza pelo número de divisores\n",
        "def fitness(n):\n",
        "    if is_prime(n):\n",
        "        return 1000\n",
        "    else:\n",
        "        divisores = sum(1 for i in range(2, n) if n % i == 0)\n",
        "        return 1 / (divisores + 1)"
      ]
    },
    {
      "cell_type": "markdown",
      "metadata": {
        "id": "Lu1AoUdSiKX4"
      },
      "source": [
        "Uma primeira experimentação que fizemos foi com Teoria de Fermat. Pra isso, usamos exponenciação binária (que é mais eficiente que exponenciação crua).\n",
        "Contudo, existem dois problemas nessa implementação:\n",
        "\n",
        "a) Podem haver compostos que passam o teste (problema pequeno, já que eles são raríssimos)\n",
        "\n",
        "b) Como nossa implementação é determinística, o fitness fica limitado a 0, se composto, e 1, se primo\n",
        "\n",
        "O 2o problema é extremamente importante, visto que, como mais pra frente vamos implementar torneio, o total fitness não pode ser 0."
      ]
    },
    {
      "cell_type": "markdown",
      "metadata": {
        "id": "uTP-yY5Lm6qq"
      },
      "source": [
        "Por isso, optamos por fazer uma pequena alteração no código de primalidade original: como todos os primos maiores que 3 são da forma 6k ± 1, podemos checar apenas pelos números até raiz de n que obedecem a essa forma, o que é 3 vezes mais rápido que checar por todo número até raiz de n. ([Fonte](https://www.geeksforgeeks.org/dsa/introduction-to-primality-test-and-school-method/))"
      ]
    },
    {
      "cell_type": "code",
      "execution_count": 138,
      "metadata": {
        "id": "NdRroobPm0Hx"
      },
      "outputs": [],
      "source": [
        "def is_prime(n):\n",
        "    if n == 2 or n == 3:\n",
        "        return True\n",
        "    elif n <= 1 or n % 2 == 0 or n % 3 == 0:\n",
        "        return False\n",
        "\n",
        "    for i in range(5, int(n**0.5)+1, 6):\n",
        "        if n % i == 0 or n % (i+2) == 0:\n",
        "            return False\n",
        "\n",
        "    return True"
      ]
    },
    {
      "cell_type": "markdown",
      "metadata": {},
      "source": [
        "De fato, todos os números inteiros podem ser escritos como 6k + i, com i em {-1, 0, 1, 2, 3, 4, 5}. Temos que:\n",
        "\n",
        "6k + 0: divisível por 6 ⇒ múltiplo de 2 e 3\n",
        "\n",
        "6k + 2: par ⇒ múltiplo de 2\n",
        "\n",
        "6k + 4: par ⇒ múltiplo de 2\n",
        "\n",
        "6k + 3: múltiplo de 3\n",
        "\n",
        "Sobrando como candidatos aos primos apenas 6k + 1 e 6k - 1 (ou 6k + 5). Isso corta 4/6 possíveis números, o que é equivalente a dizer que temos um algoritmo 3x mais rápido."
      ]
    },
    {
      "cell_type": "markdown",
      "metadata": {
        "id": "pV8FbKIYiKX5"
      },
      "source": [
        "#### 2. Inicialização da população"
      ]
    },
    {
      "cell_type": "code",
      "execution_count": 139,
      "metadata": {
        "id": "HGiSwGJpiKX5"
      },
      "outputs": [],
      "source": [
        "# Inicialização da população\n",
        "def init_population(size, min_val, max_val):\n",
        "    population = []\n",
        "    while len(population) < size:\n",
        "      val = random.randint(min_val, max_val)\n",
        "      if (val % 2 != 0): # apenas ímpares\n",
        "        population.append(val)\n",
        "    return population"
      ]
    },
    {
      "cell_type": "markdown",
      "metadata": {
        "id": "9jVxCnYYiKX5"
      },
      "source": [
        "#### 3. Método de seleção\n",
        "\n",
        "No código base, tínhamos o método de seleção por torneio. Esse método funciona, mas não é tão robusto e não dá chance de números com baixo fitness, que podem ter características interessantes, serem escolhidos. Por isso implementamos roleta:"
      ]
    },
    {
      "cell_type": "code",
      "execution_count": 140,
      "metadata": {
        "id": "TZzV6aWLCVMv"
      },
      "outputs": [],
      "source": [
        "# Seleção: Roleta\n",
        "def selection(population, fitnesses):\n",
        "    total_fitness = sum(fitnesses)\n",
        "    individual_probabilities = []\n",
        "    for i in population:\n",
        "      i_probability = fitnesses[population.index(i)] / total_fitness\n",
        "      individual_probabilities.append((i, i_probability))\n",
        "\n",
        "    print(individual_probabilities)\n",
        "\n",
        "    p1 = 0\n",
        "    roulette_num = random.random()\n",
        "    for i in individual_probabilities:\n",
        "      roulette_num -= i[1]\n",
        "      if roulette_num <= 0:\n",
        "        p1 = i\n",
        "        break\n",
        "\n",
        "    p2 = 0\n",
        "    roulette_num = random.random()\n",
        "    for i in individual_probabilities:\n",
        "      roulette_num -= i[1]\n",
        "      if roulette_num <= 0:\n",
        "        p2 = i\n",
        "        break\n",
        "\n",
        "    return p1, p2"
      ]
    },
    {
      "cell_type": "markdown",
      "metadata": {
        "id": "6z5XsjX_iKX5"
      },
      "source": [
        "#### 4. Método de crossover\n",
        "Ao invés de formatarmos o número para uma representação binária para usar métodos de crossover binários, resolvemos manter o número em seu estado de inteiro. Pra isso, precisamos repensar os operadores. "
      ]
    },
    {
      "cell_type": "markdown",
      "metadata": {},
      "source": [
        "No caso do crossover, resolvemos implementar a Recombinação Intermediária, uma função de crossover que retornará um número entre os pais (o valor dos pesos é sorteado aleatoriamente), garantindo que o filho gerado ainda esteja no espaço de busca."
      ]
    },
    {
      "cell_type": "code",
      "execution_count": 141,
      "metadata": {
        "id": "qgcgBEBRiKX5"
      },
      "outputs": [],
      "source": [
        "# Crossover: Recombinação Intermediária\n",
        "def crossover(p1, p2):\n",
        "    d = random.uniform(0, 0.5)\n",
        "    child = int(p1 * d + p2 * (1 - d))\n",
        "    return child"
      ]
    },
    {
      "cell_type": "markdown",
      "metadata": {
        "id": "t_QMsrUjiKX5"
      },
      "source": [
        "#### 5. Método de mutação\n",
        "Caso a condição de mutação seja atendida, o número será somado com o inteiro aleatório entre 0 e o limite inferior do espaço de busca, assim conseguimos garantir uma perturbação nos valores que pode vir a ser benigna."
      ]
    },
    {
      "cell_type": "code",
      "execution_count": 142,
      "metadata": {
        "id": "x4h6WR3uiKX5"
      },
      "outputs": [],
      "source": [
        "def mutate(n, mutation_rate=0.05): # aumentar 0.2\n",
        "    if random.random() < mutation_rate:\n",
        "      return min(MAX_VAL, n + random.randint(0, MIN_VAL))\n",
        "    return n"
      ]
    },
    {
      "cell_type": "markdown",
      "metadata": {
        "id": "wNmHyqLFiKX5"
      },
      "source": [
        "#### 6. Algoritmo evolutivo\n",
        "O algoritmo evolutivo, adaptado para nossos novos operadores de mutação e crossover, ficou assim:"
      ]
    },
    {
      "cell_type": "code",
      "execution_count": 152,
      "metadata": {
        "id": "UzfRXpBNFNNl"
      },
      "outputs": [],
      "source": [
        "# Algoritmo evolutivo\n",
        "def evolutionary_prime_search(pop_size=POP_SIZE, min_val=MIN_VAL, max_val=MAX_VAL, generations=GEN):\n",
        "    population = init_population(pop_size, min_val, max_val)\n",
        "\n",
        "    # Adicionando pra poder plotar\n",
        "    avg_fitnesses = []\n",
        "    best_fitnesses = []\n",
        "    initial_fitnesses = []\n",
        "\n",
        "    for gen in range(generations):\n",
        "        fitnesses =  [fitness(ind) for ind in population]\n",
        "        if gen == 0:\n",
        "          initial_fitnesses = fitnesses\n",
        "\n",
        "        avg_fitness = sum(fitnesses) / len(fitnesses)\n",
        "        best_idx = fitnesses.index(max(fitnesses))\n",
        "        best_ind = population[best_idx]\n",
        "        best_fit = fitnesses[best_idx]\n",
        "\n",
        "        # Atualizando as listas\n",
        "        avg_fitnesses.append(avg_fitness)\n",
        "        best_fitnesses.append(best_fit)\n",
        "\n",
        "\n",
        "        print(f\"Geração {gen}: Melhor fitness = {best_fit:.5f}, Melhor indivíduo = {best_ind}\")\n",
        "\n",
        "        if best_fit == 1000:\n",
        "            print(f\"\\n✅ Primo encontrado na geração {gen}: {best_ind}\")\n",
        "            return avg_fitnesses, best_fitnesses, initial_fitnesses\n",
        "\n",
        "        # Seleção\n",
        "        selected = selection(population, fitnesses)\n",
        "        print(selected)\n",
        "        p1 = selected[0][0]\n",
        "        p2 = selected[1][0]\n",
        "\n",
        "        # Crossover com reposição até manter o tamanho original\n",
        "        next_population = []\n",
        "        while len(next_population) < pop_size:\n",
        "            child = crossover(p1, p2)\n",
        "            next_population.append(child)\n",
        "\n",
        "        # Mutação\n",
        "        population = [mutate(ind) for ind in next_population]\n",
        "\n",
        "    print(\"\\n❌ Nenhum primo encontrado após todas as gerações.\")\n",
        "    return avg_fitnesses, best_fitnesses, initial_fitnesses\n"
      ]
    },
    {
      "cell_type": "code",
      "execution_count": 153,
      "metadata": {
        "id": "v9TLnA5AFOjj"
      },
      "outputs": [
        {
          "name": "stdout",
          "output_type": "stream",
          "text": [
            "Geração 0: Melhor fitness = 1000.00000, Melhor indivíduo = 3296369\n",
            "\n",
            "✅ Primo encontrado na geração 0: 3296369\n"
          ]
        },
        {
          "data": {
            "text/plain": [
              "([200.14259230965112],\n",
              " [1000],\n",
              " [0.06666666666666667,\n",
              "  0.3333333333333333,\n",
              "  0.06666666666666667,\n",
              "  1000,\n",
              "  0.058823529411764705,\n",
              "  0.14285714285714285,\n",
              "  0.09090909090909091,\n",
              "  0.3333333333333333,\n",
              "  1000,\n",
              "  0.3333333333333333])"
            ]
          },
          "execution_count": 153,
          "metadata": {},
          "output_type": "execute_result"
        }
      ],
      "source": [
        "# Executa o algoritmo\n",
        "evolutionary_prime_search()"
      ]
    },
    {
      "cell_type": "markdown",
      "metadata": {
        "id": "zxMdO7MKiKX6"
      },
      "source": [
        "### Análise\n",
        "Vamos criar métodos pra rodar simulações do algoritmo e visualizar seus resultados, a partir dos arrays que estamos atualizando de best_fitnesses e avg_fitnesses:"
      ]
    },
    {
      "cell_type": "code",
      "execution_count": 154,
      "metadata": {
        "id": "ehu7C28YiKX6"
      },
      "outputs": [],
      "source": [
        "def run_simulations(num_simulations):\n",
        "    all_avg_curves = []\n",
        "    all_best_curves = []\n",
        "    all_initial_fitnesses = []\n",
        "\n",
        "    for _ in range(num_simulations):\n",
        "        avg_curve, best_curve, initial_fitnesses = evolutionary_prime_search()\n",
        "        all_avg_curves.append(avg_curve)\n",
        "        all_best_curves.append(best_curve)\n",
        "        all_initial_fitnesses.append(initial_fitnesses)\n",
        "\n",
        "    return all_avg_curves, all_best_curves, all_initial_fitnesses"
      ]
    },
    {
      "cell_type": "markdown",
      "metadata": {
        "id": "gId6GNNyiKX6"
      },
      "source": [
        "Criando nossos gráficos pra visualizar:"
      ]
    },
    {
      "cell_type": "code",
      "execution_count": 155,
      "metadata": {
        "id": "fsHQ9doAiKX6"
      },
      "outputs": [],
      "source": [
        "import matplotlib.pyplot as plt\n",
        "import numpy as np\n",
        "\n",
        "# Pra visualizar a máx e médio fitness por geração\n",
        "def plot_avg_curves(avg_curves, best_curves):\n",
        "    max_generations = max(len(c) for c in avg_curves)\n",
        "\n",
        "    for i in range(len(avg_curves)):\n",
        "        last_avg = avg_curves[i][-1]\n",
        "        last_best = best_curves[i][-1]\n",
        "        while len(avg_curves[i]) < max_generations:\n",
        "            avg_curves[i].append(last_avg)\n",
        "            best_curves[i].append(last_best)\n",
        "\n",
        "    mean_avg = np.mean(avg_curves, axis=0)\n",
        "    mean_best = np.mean(best_curves, axis=0)\n",
        "\n",
        "    plt.figure(figsize=(12, 5))\n",
        "\n",
        "    plt.subplot(1, 2, 1)\n",
        "    plt.plot(mean_avg, label='Fitness Médio')\n",
        "    plt.xlabel(\"Geração\")\n",
        "    plt.ylabel(\"Fitness Médio\")\n",
        "    plt.title(\"Fitness Médio por Geração (média das simulações)\")\n",
        "    plt.grid(True)\n",
        "    plt.legend()\n",
        "\n",
        "    plt.subplot(1, 2, 2)\n",
        "    plt.plot(mean_best, label='Melhor Fitness', color='orange')\n",
        "    plt.xlabel(\"Geração\")\n",
        "    plt.ylabel(\"Melhor Fitness\")\n",
        "    plt.title(\"Melhor Fitness por Geração (média das simulações)\")\n",
        "    plt.grid(True)\n",
        "    plt.legend()\n",
        "\n",
        "    plt.tight_layout()\n",
        "    plt.show()\n"
      ]
    },
    {
      "cell_type": "code",
      "execution_count": 156,
      "metadata": {
        "id": "p79jmMw4pExL"
      },
      "outputs": [],
      "source": [
        "# Pra visualizar o fitness inicial (por estarmos convergindo rápido)\n",
        "def plot_initial_fitness_box(all_initial_fitnesses):\n",
        "    plt.boxplot(all_initial_fitnesses)\n",
        "    plt.title(\"Distribuição do fitness na geração inicial\")\n",
        "    plt.ylabel(\"Fitness\")\n",
        "    plt.grid(True)\n",
        "    plt.show()"
      ]
    },
    {
      "cell_type": "markdown",
      "metadata": {
        "id": "wLvc5OEMiKX6"
      },
      "source": [
        "Rodando a simulação 50 vezes:"
      ]
    },
    {
      "cell_type": "code",
      "execution_count": 161,
      "metadata": {
        "colab": {
          "base_uri": "https://localhost:8080/",
          "height": 321
        },
        "id": "8aBSKcQJiKX6",
        "outputId": "503ceeb4-7812-45a1-efcd-d30f4460230b"
      },
      "outputs": [
        {
          "name": "stdout",
          "output_type": "stream",
          "text": [
            "Geração 0: Melhor fitness = 1000.00000, Melhor indivíduo = 7687063\n",
            "\n",
            "✅ Primo encontrado na geração 0: 7687063\n",
            "Geração 0: Melhor fitness = 0.33333, Melhor indivíduo = 9807227\n",
            "[(6464079, 0.057874897763237454), (8486839, 0.09094626791365885), (8250739, 0.09094626791365885), (9807227, 0.212207958465204), (8946395, 0.09094626791365885), (3953103, 0.02053625404501974), (4738189, 0.212207958465204), (7400555, 0.0424415916930408), (7065393, 0.09094626791365885), (2926813, 0.09094626791365885)]\n",
            "((8486839, 0.09094626791365885), (2926813, 0.09094626791365885))\n",
            "Geração 1: Melhor fitness = 1000.00000, Melhor indivíduo = 3931891\n",
            "\n",
            "✅ Primo encontrado na geração 1: 3931891\n",
            "Geração 0: Melhor fitness = 1000.00000, Melhor indivíduo = 1522981\n",
            "\n",
            "✅ Primo encontrado na geração 0: 1522981\n",
            "Geração 0: Melhor fitness = 1000.00000, Melhor indivíduo = 9314209\n",
            "\n",
            "✅ Primo encontrado na geração 0: 9314209\n",
            "Geração 0: Melhor fitness = 1000.00000, Melhor indivíduo = 9839177\n",
            "\n",
            "✅ Primo encontrado na geração 0: 9839177\n",
            "Geração 0: Melhor fitness = 1000.00000, Melhor indivíduo = 7834591\n",
            "\n",
            "✅ Primo encontrado na geração 0: 7834591\n",
            "Geração 0: Melhor fitness = 1000.00000, Melhor indivíduo = 2829493\n",
            "\n",
            "✅ Primo encontrado na geração 0: 2829493\n",
            "Geração 0: Melhor fitness = 1000.00000, Melhor indivíduo = 1304627\n",
            "\n",
            "✅ Primo encontrado na geração 0: 1304627\n",
            "Geração 0: Melhor fitness = 1000.00000, Melhor indivíduo = 6924847\n",
            "\n",
            "✅ Primo encontrado na geração 0: 6924847\n",
            "Geração 0: Melhor fitness = 0.33333, Melhor indivíduo = 7692403\n",
            "[(2616411, 0.04329210275927688), (157029, 0.09276879162702188), (4044727, 0.12987630827783064), (6359133, 0.04329210275927688), (7692403, 0.2164605137963844), (515823, 0.018553758325404377), (9817689, 0.01665080875356803), (5659083, 0.12987630827783064), (3605541, 0.09276879162702188), (2531933, 0.2164605137963844)]\n",
            "((3605541, 0.09276879162702188), (157029, 0.09276879162702188))\n",
            "Geração 1: Melhor fitness = 0.33333, Melhor indivíduo = 1034734\n",
            "[(543396, 0.03814650901644758), (1178630, 0.05849131382521963), (1686605, 0.12533852962547062), (379132, 0.03814650901644758), (1034734, 0.29245656912609813), (430086, 0.05849131382521963), (414842, 0.12533852962547062), (1218208, 0.07976088248893587), (388281, 0.12533852962547062), (964455, 0.05849131382521963)]\n",
            "((1218208, 0.07976088248893587), (1034734, 0.29245656912609813))\n",
            "Geração 2: Melhor fitness = 0.33333, Melhor indivíduo = 1125715\n",
            "[(1078087, 0.07566271423217147), (1125715, 0.17654633320840007), (1115483, 0.17654633320840007), (1035330, 0.03530926664168002), (1081688, 0.07566271423217147), (1112134, 0.17654633320840007), (1068862, 0.17654633320840007), (1088235, 0.02787573682237896), (1074650, 0.0481489999659273), (1115392, 0.031155235272070606)]\n",
            "((1068862, 0.17654633320840007), (1115483, 0.17654633320840007))\n",
            "Geração 3: Melhor fitness = 0.33333, Melhor indivíduo = 1095603\n",
            "[(1096780, 0.017377482781578846), (1113104, 0.042986404775484516), (1094901, 0.11667738439060082), (1099818, 0.017377482781578846), (1108709, 0.11667738439060082), (1095603, 0.27224723024473524), (1112766, 0.05444944604894705), (1094031, 0.16334833814684116), (1101075, 0.03551050829279156), (1092932, 0.16334833814684116)]\n",
            "((1094901, 0.11667738439060082), (1108709, 0.11667738439060082))\n",
            "Geração 4: Melhor fitness = 1000.00000, Melhor indivíduo = 1104449\n",
            "\n",
            "✅ Primo encontrado na geração 4: 1104449\n",
            "Geração 0: Melhor fitness = 1000.00000, Melhor indivíduo = 2739479\n",
            "\n",
            "✅ Primo encontrado na geração 0: 2739479\n",
            "Geração 0: Melhor fitness = 0.33333, Melhor indivíduo = 9602665\n",
            "[(5186159, 0.047395833333333345), (1531305, 0.01822916666666667), (5012453, 0.10156250000000001), (1436505, 0.047395833333333345), (9602665, 0.2369791666666667), (9514427, 0.10156250000000001), (9166293, 0.14218750000000005), (733107, 0.10156250000000001), (2831183, 0.10156250000000001), (5059109, 0.10156250000000001)]\n",
            "((9602665, 0.2369791666666667), (5059109, 0.10156250000000001))\n",
            "Geração 1: Melhor fitness = 0.33333, Melhor indivíduo = 6975194\n",
            "[(5896856, 0.014817950889077057), (6620222, 0.03852667231160035), (6975194, 0.19263336155800173), (6966251, 0.19263336155800173), (5300926, 0.19263336155800173), (6131177, 0.08255715495342932), (5862026, 0.08255715495342932), (6174559, 0.08255715495342932), (5188314, 0.03852667231160035), (6752822, 0.08255715495342932)]\n",
            "((6966251, 0.19263336155800173), (6975194, 0.19263336155800173))\n",
            "Geração 2: Melhor fitness = 0.33333, Melhor indivíduo = 6972937\n",
            "[(6972910, 0.010175242652006018), (6975117, 0.05827638973421628), (6972937, 0.21368009569212637), (6972934, 0.09157718386805415), (6972108, 0.006747792495540832), (6974743, 0.21368009569212637), (6974268, 0.009028736437695481), (6974309, 0.21368009569212637), (6974002, 0.09157718386805415), (6970858, 0.09157718386805415)]\n",
            "((6974743, 0.21368009569212637), (6974002, 0.09157718386805415))\n",
            "Geração 3: Melhor fitness = 0.14286, Melhor indivíduo = 6974326\n",
            "[(6974326, 0.15169503767919182), (6974370, 0.016855004186576872), (6974209, 0.15169503767919182), (6974247, 0.07079101758362286), (6974240, 0.011177529092150978), (6974076, 0.09653320579584936), (6974275, 0.046168054945840996), (6974186, 0.15169503767919182), (6974354, 0.15169503767919182), (6974282, 0.15169503767919182)]\n",
            "((6974326, 0.15169503767919182), (6974209, 0.15169503767919182))\n",
            "Geração 4: Melhor fitness = 0.33333, Melhor indivíduo = 6974246\n",
            "[(6974214, 0.0596803079995442), (6974214, 0.0596803079995442), (6974260, 0.03892193999970274), (6974221, 0.12788637428473756), (6974254, 0.028877568386876225), (6974240, 0.009423206526243821), (6974220, 0.01904690680836517), (6974247, 0.0596803079995442), (6974246, 0.29840153999772095), (6974229, 0.29840153999772095)]\n",
            "((6974246, 0.29840153999772095), (6974246, 0.29840153999772095))\n",
            "Geração 5: Melhor fitness = 0.33333, Melhor indivíduo = 6974246\n",
            "[(6974246, 0.09999999999999999), (6974246, 0.09999999999999999), (6974245, 0.09999999999999999), (6974246, 0.09999999999999999), (6974246, 0.09999999999999999), (6974246, 0.09999999999999999), (6974246, 0.09999999999999999), (6974246, 0.09999999999999999), (6974246, 0.09999999999999999), (6974246, 0.09999999999999999)]\n",
            "((6974246, 0.09999999999999999), (6974246, 0.09999999999999999))\n",
            "Geração 6: Melhor fitness = 1000.00000, Melhor indivíduo = 18226393\n",
            "\n",
            "✅ Primo encontrado na geração 6: 18226393\n",
            "Geração 0: Melhor fitness = 1000.00000, Melhor indivíduo = 249583\n",
            "\n",
            "✅ Primo encontrado na geração 0: 249583\n",
            "Geração 0: Melhor fitness = 0.33333, Melhor indivíduo = 9122981\n",
            "[(3234517, 0.06477656778069847), (6846505, 0.06477656778069847), (9122981, 0.15114532482162976), (5751713, 0.15114532482162976), (563667, 0.030229064964325952), (9150953, 0.06477656778069847), (5600475, 0.01971460758542997), (4884609, 0.15114532482162976), (4561643, 0.15114532482162976), (8643107, 0.15114532482162976)]\n",
            "((4561643, 0.15114532482162976), (8643107, 0.15114532482162976))\n",
            "Geração 1: Melhor fitness = 1000.00000, Melhor indivíduo = 36628301\n",
            "\n",
            "✅ Primo encontrado na geração 1: 36628301\n",
            "Geração 0: Melhor fitness = 1000.00000, Melhor indivíduo = 3412831\n",
            "\n",
            "✅ Primo encontrado na geração 0: 3412831\n",
            "Geração 0: Melhor fitness = 0.33333, Melhor indivíduo = 5822023\n",
            "[(7443003, 0.06637168141592921), (8771653, 0.09292035398230089), (3586451, 0.09292035398230089), (8111257, 0.06637168141592921), (5822023, 0.15486725663716813), (9010015, 0.030973451327433628), (5399063, 0.15486725663716813), (2466431, 0.15486725663716813), (5014947, 0.030973451327433628), (6505503, 0.15486725663716813)]\n",
            "((5399063, 0.15486725663716813), (7443003, 0.06637168141592921))\n",
            "Geração 1: Melhor fitness = 1000.00000, Melhor indivíduo = 6531253\n",
            "\n",
            "✅ Primo encontrado na geração 1: 6531253\n",
            "Geração 0: Melhor fitness = 1000.00000, Melhor indivíduo = 4648031\n",
            "\n",
            "✅ Primo encontrado na geração 0: 4648031\n",
            "Geração 0: Melhor fitness = 1000.00000, Melhor indivíduo = 2439323\n",
            "\n",
            "✅ Primo encontrado na geração 0: 2439323\n",
            "Geração 0: Melhor fitness = 1000.00000, Melhor indivíduo = 8381341\n",
            "\n",
            "✅ Primo encontrado na geração 0: 8381341\n",
            "Geração 0: Melhor fitness = 1000.00000, Melhor indivíduo = 9732119\n",
            "\n",
            "✅ Primo encontrado na geração 0: 9732119\n",
            "Geração 0: Melhor fitness = 0.33333, Melhor indivíduo = 1449677\n",
            "[(3511673, 0.0410979127393309), (1449677, 0.20548956369665453), (5308335, 0.013116355129573693), (5695857, 0.05604260828090578), (5031111, 0.20548956369665453), (4654955, 0.20548956369665453), (2651271, 0.0410979127393309), (2418327, 0.05604260828090578), (4683049, 0.08806695586999479), (1551239, 0.08806695586999479)]\n",
            "((1449677, 0.20548956369665453), (4683049, 0.08806695586999479))\n",
            "Geração 1: Melhor fitness = 1000.00000, Melhor indivíduo = 3504961\n",
            "\n",
            "✅ Primo encontrado na geração 1: 3504961\n",
            "Geração 0: Melhor fitness = 1000.00000, Melhor indivíduo = 7063039\n",
            "\n",
            "✅ Primo encontrado na geração 0: 7063039\n",
            "Geração 0: Melhor fitness = 1000.00000, Melhor indivíduo = 3674291\n",
            "\n",
            "✅ Primo encontrado na geração 0: 3674291\n",
            "Geração 0: Melhor fitness = 1000.00000, Melhor indivíduo = 2563453\n",
            "\n",
            "✅ Primo encontrado na geração 0: 2563453\n",
            "Geração 0: Melhor fitness = 1000.00000, Melhor indivíduo = 2384033\n",
            "\n",
            "✅ Primo encontrado na geração 0: 2384033\n",
            "Geração 0: Melhor fitness = 1000.00000, Melhor indivíduo = 7978193\n",
            "\n",
            "✅ Primo encontrado na geração 0: 7978193\n",
            "Geração 0: Melhor fitness = 1000.00000, Melhor indivíduo = 6196471\n",
            "\n",
            "✅ Primo encontrado na geração 0: 6196471\n",
            "Geração 0: Melhor fitness = 1000.00000, Melhor indivíduo = 2714563\n",
            "\n",
            "✅ Primo encontrado na geração 0: 2714563\n",
            "Geração 0: Melhor fitness = 1000.00000, Melhor indivíduo = 3334223\n",
            "\n",
            "✅ Primo encontrado na geração 0: 3334223\n",
            "Geração 0: Melhor fitness = 1000.00000, Melhor indivíduo = 9119809\n",
            "\n",
            "✅ Primo encontrado na geração 0: 9119809\n",
            "Geração 0: Melhor fitness = 1000.00000, Melhor indivíduo = 624443\n",
            "\n",
            "✅ Primo encontrado na geração 0: 624443\n",
            "Geração 0: Melhor fitness = 1000.00000, Melhor indivíduo = 1762031\n",
            "\n",
            "✅ Primo encontrado na geração 0: 1762031\n",
            "Geração 0: Melhor fitness = 1000.00000, Melhor indivíduo = 7127567\n",
            "\n",
            "✅ Primo encontrado na geração 0: 7127567\n",
            "Geração 0: Melhor fitness = 1000.00000, Melhor indivíduo = 2753039\n",
            "\n",
            "✅ Primo encontrado na geração 0: 2753039\n",
            "Geração 0: Melhor fitness = 1000.00000, Melhor indivíduo = 1229213\n",
            "\n",
            "✅ Primo encontrado na geração 0: 1229213\n",
            "Geração 0: Melhor fitness = 1000.00000, Melhor indivíduo = 6283631\n",
            "\n",
            "✅ Primo encontrado na geração 0: 6283631\n",
            "Geração 0: Melhor fitness = 1000.00000, Melhor indivíduo = 3135553\n",
            "\n",
            "✅ Primo encontrado na geração 0: 3135553\n",
            "Geração 0: Melhor fitness = 1000.00000, Melhor indivíduo = 8160259\n",
            "\n",
            "✅ Primo encontrado na geração 0: 8160259\n",
            "Geração 0: Melhor fitness = 1000.00000, Melhor indivíduo = 8903023\n",
            "\n",
            "✅ Primo encontrado na geração 0: 8903023\n",
            "Geração 0: Melhor fitness = 1000.00000, Melhor indivíduo = 8857669\n",
            "\n",
            "✅ Primo encontrado na geração 0: 8857669\n",
            "Geração 0: Melhor fitness = 1000.00000, Melhor indivíduo = 8078531\n",
            "\n",
            "✅ Primo encontrado na geração 0: 8078531\n",
            "Geração 0: Melhor fitness = 1000.00000, Melhor indivíduo = 4504163\n",
            "\n",
            "✅ Primo encontrado na geração 0: 4504163\n",
            "Geração 0: Melhor fitness = 1000.00000, Melhor indivíduo = 321091\n",
            "\n",
            "✅ Primo encontrado na geração 0: 321091\n",
            "Geração 0: Melhor fitness = 1000.00000, Melhor indivíduo = 3732161\n",
            "\n",
            "✅ Primo encontrado na geração 0: 3732161\n",
            "Geração 0: Melhor fitness = 1000.00000, Melhor indivíduo = 6296033\n",
            "\n",
            "✅ Primo encontrado na geração 0: 6296033\n",
            "Geração 0: Melhor fitness = 0.33333, Melhor indivíduo = 8923189\n",
            "[(8923189, 0.19066792989104692), (5079921, 0.038133585978209386), (4440095, 0.02486972998578873), (8924311, 0.08171482709616297), (4645177, 0.038133585978209386), (4069041, 0.08171482709616297), (9750003, 0.08171482709616297), (5421713, 0.19066792989104692), (566869, 0.19066792989104692), (8948155, 0.08171482709616297)]\n",
            "((5421713, 0.19066792989104692), (4645177, 0.038133585978209386))\n",
            "Geração 1: Melhor fitness = 0.33333, Melhor indivíduo = 4988471\n",
            "[(4678890, 0.02159226995892277), (4890403, 0.09562290981808654), (99868805, 0.09562290981808654), (4988471, 0.2231201229088686), (4779017, 0.2231201229088686), (4884614, 0.06085094261150962), (4810040, 0.02159226995892277), (4657779, 0.02910262472724373), (5013127, 0.2231201229088686), (4652900, 0.006255704380622484)]\n",
            "((4779017, 0.2231201229088686), (5013127, 0.2231201229088686))\n",
            "Geração 2: Melhor fitness = 1000.00000, Melhor indivíduo = 4937879\n",
            "\n",
            "✅ Primo encontrado na geração 2: 4937879\n",
            "Geração 0: Melhor fitness = 0.33333, Melhor indivíduo = 7802427\n",
            "[(7802427, 0.1745240253853128), (502579, 0.03490480507706256), (4106199, 0.03490480507706256), (828019, 0.07479601087941977), (7813357, 0.1745240253853128), (6538165, 0.1745240253853128), (8222685, 0.03490480507706256), (2177567, 0.07479601087941977), (772161, 0.04759746146872168), (3607189, 0.1745240253853128)]\n",
            "((828019, 0.07479601087941977), (7802427, 0.1745240253853128))\n",
            "Geração 1: Melhor fitness = 0.33333, Melhor indivíduo = 7602801\n",
            "[(7602801, 0.22136393180340982), (4638035, 0.09487025648717565), (6086002, 0.044272786360681965), (6661739, 0.028873556322183892), (7020013, 0.044272786360681965), (5849219, 0.09487025648717565), (5583675, 0.06037198140092996), (5147223, 0.22136393180340982), (4468186, 0.09487025648717565), (7067273, 0.09487025648717565)]\n",
            "((5147223, 0.22136393180340982), (5583675, 0.06037198140092996))\n",
            "Geração 2: Melhor fitness = 0.33333, Melhor indivíduo = 5552493\n",
            "[(5463628, 0.11742782039899605), (5552493, 0.1957130339983267), (5423754, 0.009319668285634606), (82974218, 0.1957130339983267), (5488556, 0.11742782039899605), (5505970, 0.018939971032096135), (5367340, 0.012492321319042132), (5422874, 0.1957130339983267), (5391318, 0.08387701457071145), (5371182, 0.053376281999543654)]\n",
            "((5463628, 0.11742782039899605), (5488556, 0.11742782039899605))\n",
            "Geração 3: Melhor fitness = 0.33333, Melhor indivíduo = 5479294\n",
            "[(5479294, 0.2039375809831555), (5480005, 0.08740182042135236), (5480795, 0.2039375809831555), (5476575, 0.01301729240318014), (5479192, 0.0407875161966311), (5478156, 0.017480364084270474), (5484476, 0.12236254858989332), (5485186, 0.01973589493385376), (5484437, 0.08740182042135236), (5488253, 0.2039375809831555)]\n",
            "((5488253, 0.2039375809831555), (5479294, 0.2039375809831555))\n",
            "Geração 4: Melhor fitness = 1000.00000, Melhor indivíduo = 5479931\n",
            "\n",
            "✅ Primo encontrado na geração 4: 5479931\n",
            "Geração 0: Melhor fitness = 1000.00000, Melhor indivíduo = 3873799\n",
            "\n",
            "✅ Primo encontrado na geração 0: 3873799\n",
            "Geração 0: Melhor fitness = 0.33333, Melhor indivíduo = 2861981\n",
            "[(3695743, 0.08308157099697887), (2861981, 0.19385699899295067), (1114545, 0.038771399798590137), (9598449, 0.038771399798590137), (2714955, 0.038771399798590137), (512519, 0.08308157099697887), (7815313, 0.19385699899295067), (4995019, 0.19385699899295067), (828351, 0.0528700906344411), (7965703, 0.08308157099697887)]\n",
            "((1114545, 0.038771399798590137), (2861981, 0.19385699899295067))\n",
            "Geração 1: Melhor fitness = 0.33333, Melhor indivíduo = 2635721\n",
            "[(2751474, 0.022115642373454238), (2197485, 0.02980803972074267), (2635721, 0.22852830452569378), (2590454, 0.04570566090513876), (2833557, 0.22852830452569378), (2013325, 0.062325901234280126), (2120200, 0.02980803972074267), (2624164, 0.062325901234280126), (2228857, 0.22852830452569378), (2592531, 0.062325901234280126)]\n",
            "((2635721, 0.22852830452569378), (2833557, 0.22852830452569378))\n",
            "Geração 2: Melhor fitness = 0.33333, Melhor indivíduo = 2766103\n",
            "[(2767290, 0.038093090714085495), (2766449, 0.0816280515301832), (2814512, 0.03007349266901486), (2766103, 0.19046545357042746), (2773878, 0.038093090714085495), (2808566, 0.19046545357042746), (2765113, 0.19046545357042746), (2833289, 0.19046545357042746), (2829140, 0.012157369376835795), (2788904, 0.038093090714085495)]\n",
            "((2766103, 0.19046545357042746), (2833289, 0.19046545357042746))\n",
            "Geração 3: Melhor fitness = 1000.00000, Melhor indivíduo = 2831839\n",
            "\n",
            "✅ Primo encontrado na geração 3: 2831839\n",
            "Geração 0: Melhor fitness = 1000.00000, Melhor indivíduo = 273827\n",
            "\n",
            "✅ Primo encontrado na geração 0: 273827\n"
          ]
        },
        {
          "data": {
            "image/png": "[encoded data removed]",
            "text/plain": [
              "<Figure size 1200x500 with 2 Axes>"
            ]
          },
          "metadata": {},
          "output_type": "display_data"
        },
        {
          "data": {
            "image/png": "[encoded data removed]",
            "text/plain": [
              "<Figure size 640x480 with 1 Axes>"
            ]
          },
          "metadata": {},
          "output_type": "display_data"
        }
      ],
      "source": [
        "num_sim = 50\n",
        "avg_curves, best_curves, initial_fitnesses = run_simulations(num_sim)\n",
        "plot_avg_curves(avg_curves, best_curves)\n",
        "plot_initial_fitness_box(initial_fitnesses)"
      ]
    }
  ],
  "metadata": {
    "accelerator": "GPU",
    "colab": {
      "gpuType": "T4",
      "include_colab_link": true,
      "provenance": []
    },
    "kernelspec": {
      "display_name": "Python 3",
      "name": "python3"
    },
    "language_info": {
      "codemirror_mode": {
        "name": "ipython",
        "version": 3
      },
      "file_extension": ".py",
      "mimetype": "text/x-python",
      "name": "python",
      "nbconvert_exporter": "python",
      "pygments_lexer": "ipython3",
      "version": "3.11.2"
    }
  },
  "nbformat": 4,
  "nbformat_minor": 0
}
