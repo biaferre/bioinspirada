{
  "nbformat": 4,
  "nbformat_minor": 0,
  "metadata": {
    "colab": {
      "provenance": [],
      "authorship_tag": "ABX9TyNpCL9949MbrfeOXCkTXa4Q",
      "include_colab_link": true
    },
    "kernelspec": {
      "name": "python3",
      "display_name": "Python 3"
    },
    "language_info": {
      "name": "python"
    }
  },
  "cells": [
    {
      "cell_type": "markdown",
      "metadata": {
        "id": "view-in-github",
        "colab_type": "text"
      },
      "source": [
        "<a href=\"https://colab.research.google.com/github/biaferre/bioinspirada/blob/main/Finding_Primes.ipynb\" target=\"_parent\"><img src=\"https://colab.research.google.com/assets/colab-badge.svg\" alt=\"Open In Colab\"/></a>"
      ]
    },
    {
      "cell_type": "markdown",
      "source": [
        "# Encontrando números primos\n",
        "\n",
        "> Disciplina de Tópicos Avançados em IA: Algoritmos Bioinspirados | CIn UFPE 2025.1\n",
        "\n",
        "> Grupo: Beatriz Férre e Ronald Silva\n",
        "\n",
        "Exercício em Python para encontrar primos dentro de um intervalo de números inteiros com mais de 6 casas decimais. Experimentações com testes de primalidade, tamanho populacional e intervalo da busca, métodos de seleção (torneio x roleta), representações com inteiros e funções de combinação e mutação pra inteiros.\n",
        "\n"
      ],
      "metadata": {
        "id": "YMiNlUCYwOTY"
      }
    },
    {
      "cell_type": "markdown",
      "source": [
        "### Parâmetros"
      ],
      "metadata": {
        "id": "rBQYh7RFxXd4"
      }
    },
    {
      "cell_type": "code",
      "source": [
        "import random\n",
        "\n",
        "MIN_VAL = 10**8\n",
        "MAX_VAL = 10**12\n",
        "POP_SIZE = 5\n",
        "GEN = 100"
      ],
      "metadata": {
        "id": "vYpt5JpILV8E"
      },
      "execution_count": 96,
      "outputs": []
    },
    {
      "cell_type": "markdown",
      "source": [
        "### Código base\n",
        "Fornecida na monitoria para ser aprimorada nas seções subsequentes."
      ],
      "metadata": {
        "id": "qwB8qmdRx-wZ"
      }
    },
    {
      "cell_type": "code",
      "source": [
        "# Checar se o número é primo\n",
        "def is_prime(n):\n",
        "    if n < 2:\n",
        "        return False\n",
        "    for i in range(2, int(n**0.5)+1):\n",
        "        if n % i == 0:\n",
        "            return False\n",
        "    return True\n",
        "\n",
        "# Função de fitness: 1 se primo, senão penaliza pelo número de divisores\n",
        "def fitness(n):\n",
        "    if is_prime(n):\n",
        "        return 1000  # grande valor de fitness\n",
        "    else:\n",
        "        divisores = sum(1 for i in range(2, n) if n % i == 0)\n",
        "        return 1 / (divisores + 1)\n",
        "\n",
        "# Inicializa a população de inteiros\n",
        "def init_population(size, min_val, max_val):\n",
        "    return [random.randint(min_val, max_val) for _ in range(size)]\n",
        "\n",
        "# Seleção: Torneio binário\n",
        "def selection(population, fitnesses):\n",
        "    selected = []\n",
        "    for _ in range(len(population)):\n",
        "        if len(population) < 2:\n",
        "            return population  # evita erro se houver apenas 1 indivíduo\n",
        "        i, j = random.sample(range(len(population)), 2)\n",
        "        selected.append(population[i] if fitnesses[i] > fitnesses[j] else population[j])\n",
        "    return selected\n",
        "\n",
        "# Crossover: combinação de bits\n",
        "def crossover(parent1, parent2):\n",
        "    p1 = format(parent1, 'b')\n",
        "    p2 = format(parent2, 'b')\n",
        "    max_len = max(len(p1), len(p2))\n",
        "    p1 = p1.zfill(max_len)\n",
        "    p2 = p2.zfill(max_len)\n",
        "    point = random.randint(1, max_len - 1)\n",
        "    child_bin = p1[:point] + p2[point:]\n",
        "    return int(child_bin, 2)\n",
        "\n",
        "# Mutação: troca aleatória de bits\n",
        "def mutate(n, mutation_rate=0.05): # aumentar 0.2\n",
        "    bits = list(format(n, 'b'))\n",
        "    for i in range(len(bits)):\n",
        "        if random.random() < mutation_rate:\n",
        "            bits[i] = '1' if bits[i] == '0' else '0'\n",
        "    return int(''.join(bits), 2)\n",
        "\n",
        "# Algoritmo evolutivo\n",
        "def evolutionary_prime_search(pop_size=10, min_val=10**5, max_val=10**6, generations=100):\n",
        "    population = init_population(pop_size, min_val, max_val)\n",
        "\n",
        "    for gen in range(generations):\n",
        "        fitnesses = [fitness(ind) for ind in population]\n",
        "\n",
        "        # Melhor indivíduo da geração\n",
        "        best_idx = fitnesses.index(max(fitnesses))\n",
        "        best_ind = population[best_idx]\n",
        "        best_fit = fitnesses[best_idx]\n",
        "\n",
        "        print(f\"Geração {gen}: Melhor fitness = {best_fit:.5f}, Melhor indivíduo = {best_ind}\")\n",
        "\n",
        "        # Verifica se encontrou um primo\n",
        "        if best_fit == 1000:\n",
        "            print(f\"\\n✅ Primo encontrado na geração {gen}: {best_ind}\")\n",
        "            return best_ind\n",
        "\n",
        "        # Seleção\n",
        "        selected = selection(population, fitnesses)\n",
        "\n",
        "        # Crossover com reposição até manter o tamanho original\n",
        "        next_population = []\n",
        "        while len(next_population) < pop_size:\n",
        "            p1, p2 = random.sample(selected, 2)\n",
        "            child = crossover(p1, p2)\n",
        "            next_population.append(child)\n",
        "\n",
        "        # Mutação\n",
        "        population = [mutate(ind) for ind in next_population]\n",
        "\n",
        "    print(\"\\n❌ Nenhum primo encontrado após todas as gerações.\")\n",
        "    return None\n",
        "\n",
        "# Executa o algoritmo\n",
        "evolutionary_prime_search()"
      ],
      "metadata": {
        "id": "-utAofftx99l"
      },
      "execution_count": null,
      "outputs": []
    },
    {
      "cell_type": "markdown",
      "source": [
        "### Experimentações"
      ],
      "metadata": {
        "id": "jZk3xJEbyHCs"
      }
    },
    {
      "cell_type": "code",
      "execution_count": 97,
      "metadata": {
        "id": "TZzV6aWLCVMv"
      },
      "outputs": [],
      "source": [
        "# Checar se o número é primo\n",
        "def is_prime(n):\n",
        "    if n < 2:\n",
        "        return False\n",
        "    for i in range(2, int(n**0.5)+1):\n",
        "        if n % i == 0:\n",
        "            return False\n",
        "    return True\n",
        "\n",
        "# Função de fitness: 1 se primo, senão penaliza pelo número de divisores\n",
        "def fitness(n):\n",
        "    if is_prime(n):\n",
        "        return 1000  # grande valor de fitness\n",
        "    else:\n",
        "        divisores = sum(1 for i in range(2, n) if n % i == 0)\n",
        "        return 1 / (divisores + 1)\n",
        "\n",
        "# Inicializa a população de inteiros\n",
        "def init_population(size, min_val, max_val):\n",
        "    population = []\n",
        "    while len(population) < size:\n",
        "      val = random.randint(min_val, max_val)\n",
        "      if (val % 2 != 0): # adicionando apenas ímpares\n",
        "        population.append(val)\n",
        "    return population\n",
        "\n",
        "# Seleção: Roleta\n",
        "def selection(population, fitnesses):\n",
        "    total_fitness = sum(fitnesses)\n",
        "    individual_probabilities = []\n",
        "    for i in population:\n",
        "      i_probability = fitnesses[population.index(i)] / total_fitness\n",
        "      individual_probabilities.append((i, i_probability))\n",
        "\n",
        "    print(individual_probabilities)\n",
        "\n",
        "    p1 = 0\n",
        "    roulette_num = random.random()\n",
        "    for i in individual_probabilities:\n",
        "      roulette_num -= i[1]\n",
        "      if roulette_num <= 0:\n",
        "        p1 = i\n",
        "        break\n",
        "\n",
        "    p2 = 0\n",
        "    roulette_num = random.random()\n",
        "    for i in individual_probabilities:\n",
        "      roulette_num -= i[1]\n",
        "      if roulette_num <= 0:\n",
        "        p2 = i\n",
        "        break\n",
        "\n",
        "    return p1, p2\n",
        "\n",
        "# Crossover: recombinação intermediária\n",
        "def crossover(p1, p2):\n",
        "    d = random.uniform(0, 0.5)\n",
        "    child = int(p1 * d + p2 * (1 - d))\n",
        "    return child\n",
        "\n",
        "# Mutação: troca aleatória de bits\n",
        "def mutate(n, mutation_rate=0.05): # aumentar 0.2\n",
        "    bits = list(format(n, 'b'))\n",
        "    for i in range(len(bits)):\n",
        "        if random.random() < mutation_rate:\n",
        "            bits[i] = '1' if bits[i] == '0' else '0'\n",
        "    return int(''.join(bits), 2)"
      ]
    },
    {
      "cell_type": "code",
      "source": [
        "\n",
        "# Algoritmo evolutivo\n",
        "def evolutionary_prime_search(pop_size=POP_SIZE, min_val=MIN_VAL, max_val=MAX_VAL, generations=GEN):\n",
        "    population = init_population(pop_size, min_val, max_val)\n",
        "\n",
        "    for gen in range(generations):\n",
        "        fitnesses = [fitness(ind) for ind in population]\n",
        "\n",
        "        # Melhor indivíduo da geração\n",
        "        best_idx = fitnesses.index(max(fitnesses))\n",
        "        best_ind = population[best_idx]\n",
        "        best_fit = fitnesses[best_idx]\n",
        "\n",
        "        print(f\"Geração {gen}: Melhor fitness = {best_fit:.5f}, Melhor indivíduo = {best_ind}\")\n",
        "\n",
        "        # Verifica se encontrou um primo\n",
        "        if best_fit == 1000:\n",
        "            print(f\"\\n✅ Primo encontrado na geração {gen}: {best_ind}\")\n",
        "            return best_ind\n",
        "\n",
        "        # Seleção\n",
        "        selected = selection(population, fitnesses)\n",
        "        print(selected)\n",
        "        p1 = selected[0][0]\n",
        "        p2 = selected[1][0]\n",
        "\n",
        "        # Crossover com reposição até manter o tamanho original\n",
        "        next_population = []\n",
        "        while len(next_population) < pop_size:\n",
        "            child = crossover(p1, p2)\n",
        "            next_population.append(child)\n",
        "\n",
        "        # Mutação\n",
        "        population = [mutate(ind) for ind in next_population]\n",
        "\n",
        "    print(\"\\n❌ Nenhum primo encontrado após todas as gerações.\")\n",
        "    return None\n"
      ],
      "metadata": {
        "id": "UzfRXpBNFNNl"
      },
      "execution_count": 98,
      "outputs": []
    },
    {
      "cell_type": "code",
      "source": [
        "# Executa o algoritmo\n",
        "evolutionary_prime_search()"
      ],
      "metadata": {
        "id": "v9TLnA5AFOjj"
      },
      "execution_count": null,
      "outputs": []
    }
  ]
}