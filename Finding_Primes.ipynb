{
  "cells": [
    {
      "cell_type": "markdown",
      "metadata": {
        "id": "view-in-github",
        "colab_type": "text"
      },
      "source": [
        "<a href=\"https://colab.research.google.com/github/biaferre/bioinspirada/blob/main/Finding_Primes.ipynb\" target=\"_parent\"><img src=\"https://colab.research.google.com/assets/colab-badge.svg\" alt=\"Open In Colab\"/></a>"
      ]
    },
    {
      "cell_type": "markdown",
      "metadata": {
        "id": "YMiNlUCYwOTY"
      },
      "source": [
        "# Encontrando números primos / Finding primes\n",
        "\n",
        "> Disciplina de Tópicos Avançados em IA: Algoritmos Bioinspirados | CIn UFPE 2025.1\n",
        "\n",
        "> Grupo: Beatriz Férre e Ronald Silva\n",
        "\n",
        "Exercício em Python para encontrar primos dentro de um intervalo de números inteiros com mais de 6 casas decimais. Experimentações com testes de primalidade, tamanho populacional e intervalo da busca, métodos de seleção (torneio x roleta), representações com inteiros e funções de combinação e mutação pra inteiros.\n",
        "\n",
        "/ Python exercise to find prime numbers within a range of integers with more than 6 digits. Experiments with primality tests, population size and search range, selection methods (tournament vs. roulette), representations using integers, and combination and mutation functions for integers."
      ]
    },
    {
      "cell_type": "markdown",
      "metadata": {
        "id": "rBQYh7RFxXd4"
      },
      "source": [
        "### Parâmetros iniciais"
      ]
    },
    {
      "cell_type": "code",
      "execution_count": 29,
      "metadata": {
        "id": "vYpt5JpILV8E"
      },
      "outputs": [],
      "source": [
        "import random\n",
        "\n",
        "MIN_VAL = 10**5\n",
        "MAX_VAL = 10**7\n",
        "POP_SIZE = 4\n",
        "GEN = 100"
      ]
    },
    {
      "cell_type": "markdown",
      "metadata": {
        "id": "qwB8qmdRx-wZ"
      },
      "source": [
        "### Código base\n",
        "Fornecida na monitoria para ser aprimorada nas seções subsequentes."
      ]
    },
    {
      "cell_type": "code",
      "execution_count": null,
      "metadata": {
        "id": "-utAofftx99l",
        "outputId": "9010b356-eff3-44ac-f3bc-6d6608ddc903"
      },
      "outputs": [
        {
          "name": "stdout",
          "output_type": "stream",
          "text": [
            "Geração 0: Melhor fitness = 0.33333, Melhor indivíduo = 904018\n",
            "Geração 1: Melhor fitness = 0.33333, Melhor indivíduo = 969554\n",
            "Geração 2: Melhor fitness = 1000.00000, Melhor indivíduo = 674083\n",
            "\n",
            "✅ Primo encontrado na geração 2: 674083\n"
          ]
        },
        {
          "data": {
            "text/plain": [
              "674083"
            ]
          },
          "execution_count": 67,
          "metadata": {},
          "output_type": "execute_result"
        }
      ],
      "source": [
        "# Checar se o número é primo\n",
        "def is_prime(n):\n",
        "    if n < 2:\n",
        "        return False\n",
        "    for i in range(2, int(n**0.5)+1):\n",
        "        if n % i == 0:\n",
        "            return False\n",
        "    return True\n",
        "\n",
        "# Função de fitness: 1 se primo, senão penaliza pelo número de divisores\n",
        "def fitness(n):\n",
        "    if is_prime(n):\n",
        "        return 1000  # grande valor de fitness\n",
        "    else:\n",
        "        divisores = sum(1 for i in range(2, n) if n % i == 0)\n",
        "        return 1 / (divisores + 1)\n",
        "\n",
        "# Inicializa a população de inteiros\n",
        "def init_population(size, min_val, max_val):\n",
        "    return [random.randint(min_val, max_val) for _ in range(size)]\n",
        "\n",
        "# Seleção: Torneio binário\n",
        "def selection(population, fitnesses):\n",
        "    selected = []\n",
        "    for _ in range(len(population)):\n",
        "        if len(population) < 2:\n",
        "            return population  # evita erro se houver apenas 1 indivíduo\n",
        "        i, j = random.sample(range(len(population)), 2)\n",
        "        selected.append(population[i] if fitnesses[i] > fitnesses[j] else population[j])\n",
        "    return selected\n",
        "\n",
        "# Crossover: combinação de bits\n",
        "def crossover(parent1, parent2):\n",
        "    p1 = format(parent1, 'b')\n",
        "    p2 = format(parent2, 'b')\n",
        "    max_len = max(len(p1), len(p2))\n",
        "    p1 = p1.zfill(max_len)\n",
        "    p2 = p2.zfill(max_len)\n",
        "    point = random.randint(1, max_len - 1)\n",
        "    child_bin = p1[:point] + p2[point:]\n",
        "    return int(child_bin, 2)\n",
        "\n",
        "# Mutação: troca aleatória de bits\n",
        "def mutate(n, mutation_rate=0.05): # aumentar 0.2\n",
        "    bits = list(format(n, 'b'))\n",
        "    for i in range(len(bits)):\n",
        "        if random.random() < mutation_rate:\n",
        "            bits[i] = '1' if bits[i] == '0' else '0'\n",
        "    return int(''.join(bits), 2)\n",
        "\n",
        "# Algoritmo evolutivo\n",
        "def evolutionary_prime_search(pop_size=10, min_val=10**5, max_val=10**6, generations=100):\n",
        "    population = init_population(pop_size, min_val, max_val)\n",
        "\n",
        "    for gen in range(generations):\n",
        "        fitnesses = [fitness(ind) for ind in population]\n",
        "\n",
        "        # Melhor indivíduo da geração\n",
        "        best_idx = fitnesses.index(max(fitnesses))\n",
        "        best_ind = population[best_idx]\n",
        "        best_fit = fitnesses[best_idx]\n",
        "\n",
        "        print(f\"Geração {gen}: Melhor fitness = {best_fit:.5f}, Melhor indivíduo = {best_ind}\")\n",
        "\n",
        "        # Verifica se encontrou um primo\n",
        "        if best_fit == 1000:\n",
        "            print(f\"\\n✅ Primo encontrado na geração {gen}: {best_ind}\")\n",
        "            return best_ind\n",
        "\n",
        "        # Seleção\n",
        "        selected = selection(population, fitnesses)\n",
        "\n",
        "        # Crossover com reposição até manter o tamanho original\n",
        "        next_population = []\n",
        "        while len(next_population) < pop_size:\n",
        "            p1, p2 = random.sample(selected, 2)\n",
        "            child = crossover(p1, p2)\n",
        "            next_population.append(child)\n",
        "\n",
        "        # Mutação\n",
        "        population = [mutate(ind) for ind in next_population]\n",
        "\n",
        "    print(\"\\n❌ Nenhum primo encontrado após todas as gerações.\")\n",
        "    return None\n",
        "\n",
        "# Executa o algoritmo\n",
        "evolutionary_prime_search()"
      ]
    },
    {
      "cell_type": "markdown",
      "metadata": {
        "id": "jZk3xJEbyHCs"
      },
      "source": [
        "### Experimentações\n",
        "Para começar, como estamos encontrando o valor muito cedo nas gerações, vamos mudar nosso MIN e MAX_VALUE pra ordens de grandeza maiores, onde os primos são mais rarefeitos. Logo, vai demorar mais pra convergir, e teremos curvas melhores. Também vamos reduzir nossa população."
      ]
    },
    {
      "cell_type": "code",
      "source": [
        "MIN_VAL = 10**8\n",
        "MAX_VAL = 10**12"
      ],
      "metadata": {
        "id": "0zNq6uDbl3Yr"
      },
      "execution_count": 30,
      "outputs": []
    },
    {
      "cell_type": "markdown",
      "metadata": {
        "id": "ThF0_rd8iKX4"
      },
      "source": [
        "#### 1. Teste de primalidade e definição de fitness\n",
        "O teste do código base de primalidade consiste apenas em iterar por todos os valores de 2 a raiz de n e ver se há algum divisor de n. É um teste pouco robusto e custoso. Do mesmo modo, seu fitness é definido com base em quantos divisores um número não primo tem, retornando 1000 se for primo."
      ]
    },
    {
      "cell_type": "code",
      "execution_count": 53,
      "metadata": {
        "id": "1lyySZBHiKX4"
      },
      "outputs": [],
      "source": [
        "# Primalidade\n",
        "def is_prime(n):\n",
        "    if n < 2:\n",
        "        return False\n",
        "    for i in range(2, int(n**0.5)+1):\n",
        "        if n % i == 0:\n",
        "            return False\n",
        "    return True\n",
        "\n",
        "# Função de fitness: 1 se primo, senão penaliza pelo número de divisores\n",
        "def fitness(n):\n",
        "    if is_prime(n):\n",
        "        return 1000\n",
        "    else:\n",
        "        divisores = sum(1 for i in range(2, n) if n % i == 0)\n",
        "        return 1 / (divisores + 1)"
      ]
    },
    {
      "cell_type": "markdown",
      "metadata": {
        "id": "Lu1AoUdSiKX4"
      },
      "source": [
        "Uma primeira experimentação que fizemos foi com Teoria de Fermat. Pra isso, usamos exponenciação binária (que é mais eficiente que exponenciação crua).\n",
        "Contudo, existem dois problemas nessa implementação:\n",
        "\n",
        "a) Podem haver compostos que passam o teste (problema pequeno, já que eles são raríssimos)\n",
        "\n",
        "b) Como nossa implementação é determinística, o fitness fica limitado a 0, se composto, e 1, se primo\n",
        "\n",
        "O 2o problema é extremamente importante, visto que, como mais pra frente vamos implementar torneio, o total fitness não pode ser 0."
      ]
    },
    {
      "cell_type": "markdown",
      "source": [
        "Por isso, optamos por fazer uma pequena alteração no código de primalidade original: como todos os primos maiores que 3 são da forma 6k ± 1, podemos checar apenas pelos números até raiz de n que obedecem a essa forma, o que é 3 vezes mais rápido que checar por todo número até raiz de n. ([Fonte](https://www.geeksforgeeks.org/dsa/introduction-to-primality-test-and-school-method/))"
      ],
      "metadata": {
        "id": "uTP-yY5Lm6qq"
      }
    },
    {
      "cell_type": "code",
      "source": [
        " def is_prime(n):\n",
        "    if n == 2 or n == 3:\n",
        "        return True\n",
        "    elif n <= 1 or n % 2 == 0 or n % 3 == 0:\n",
        "        return False\n",
        "\n",
        "    for i in range(5, int(n**0.5)+1, 6):\n",
        "        if n % i == 0 or n % (i+2) == 0:\n",
        "            return False\n",
        "\n",
        "    return True"
      ],
      "metadata": {
        "id": "NdRroobPm0Hx"
      },
      "execution_count": 34,
      "outputs": []
    },
    {
      "cell_type": "markdown",
      "metadata": {
        "id": "pV8FbKIYiKX5"
      },
      "source": [
        "#### 2. Inicialização da população"
      ]
    },
    {
      "cell_type": "code",
      "execution_count": 3,
      "metadata": {
        "id": "HGiSwGJpiKX5"
      },
      "outputs": [],
      "source": [
        "# Inicialização da população\n",
        "def init_population(size, min_val, max_val):\n",
        "    population = []\n",
        "    while len(population) < size:\n",
        "      val = random.randint(min_val, max_val)\n",
        "      if (val % 2 != 0): # apenas ímpares\n",
        "        population.append(val)\n",
        "    return population"
      ]
    },
    {
      "cell_type": "markdown",
      "metadata": {
        "id": "9jVxCnYYiKX5"
      },
      "source": [
        "#### 3. Método de seleção\n",
        "\n",
        "No código base, tínhamos o método de seleção por torneio. Esse método funciona, mas não é tão robusto e não dá chance de números com baixo fitness, que podem ter características interessantes, serem escolhidos. Por isso implementamos roleta:"
      ]
    },
    {
      "cell_type": "code",
      "execution_count": 4,
      "metadata": {
        "id": "TZzV6aWLCVMv"
      },
      "outputs": [],
      "source": [
        "# Seleção: Roleta\n",
        "def selection(population, fitnesses):\n",
        "    total_fitness = sum(fitnesses)\n",
        "    individual_probabilities = []\n",
        "    for i in population:\n",
        "      i_probability = fitnesses[population.index(i)] / total_fitness\n",
        "      individual_probabilities.append((i, i_probability))\n",
        "\n",
        "    print(individual_probabilities)\n",
        "\n",
        "    p1 = 0\n",
        "    roulette_num = random.random()\n",
        "    for i in individual_probabilities:\n",
        "      roulette_num -= i[1]\n",
        "      if roulette_num <= 0:\n",
        "        p1 = i\n",
        "        break\n",
        "\n",
        "    p2 = 0\n",
        "    roulette_num = random.random()\n",
        "    for i in individual_probabilities:\n",
        "      roulette_num -= i[1]\n",
        "      if roulette_num <= 0:\n",
        "        p2 = i\n",
        "        break\n",
        "\n",
        "    return p1, p2"
      ]
    },
    {
      "cell_type": "markdown",
      "metadata": {
        "id": "6z5XsjX_iKX5"
      },
      "source": [
        "#### 4. Método de crossover\n",
        "Ao invés de formatarmos o número para uma representação binária para usar métodos de crossover binários, resolvemos manter o número em seu estado de inteiro e implementar um método de crossover que manipula valores inteiros, isto é, a Recombinação Intermediária."
      ]
    },
    {
      "cell_type": "markdown",
      "metadata": {
        "id": "7ZAZbC5ziKX5"
      },
      "source": [
        "Ao invés de formatarmos o número para uma representação binária para usar métodos de crossover binários, resolvemos manter o número em seu estado de inteiro e implementar um método de crossover que manipula valores inteiros, isto é, a Recombinação Intermediária."
      ]
    },
    {
      "cell_type": "code",
      "execution_count": 5,
      "metadata": {
        "id": "qgcgBEBRiKX5"
      },
      "outputs": [],
      "source": [
        "# Crossover: Recombinação Intermediária\n",
        "def crossover(p1, p2):\n",
        "    d = random.uniform(0, 0.5)\n",
        "    child = int(p1 * d + p2 * (1 - d))\n",
        "    return child"
      ]
    },
    {
      "cell_type": "markdown",
      "metadata": {
        "id": "t_QMsrUjiKX5"
      },
      "source": [
        "#### 5. Método de mutação\n",
        "Caso a condição de mutação seja atendida, o número será somado com o inteiro aleatório entre 0 e o limite inferior do espaço de busca, assim conseguimos garantir uma perturbação nos valores que pode vir a ser benigna."
      ]
    },
    {
      "cell_type": "code",
      "execution_count": 54,
      "metadata": {
        "id": "x4h6WR3uiKX5"
      },
      "outputs": [],
      "source": [
        "def mutate(n, mutation_rate=0.05): # aumentar 0.2\n",
        "    if random.random() < mutation_rate:\n",
        "      return min(MAX_VAL, n + random.randint(0, MIN_VAL))\n",
        "    return n"
      ]
    },
    {
      "cell_type": "markdown",
      "metadata": {
        "id": "wNmHyqLFiKX5"
      },
      "source": [
        "#### 6. Algoritmo evolutivo\n",
        "O algoritmo evolutivo, adaptado para nossos novos operadores de mutação e crossover, ficou assim:"
      ]
    },
    {
      "cell_type": "code",
      "execution_count": 60,
      "metadata": {
        "id": "UzfRXpBNFNNl"
      },
      "outputs": [],
      "source": [
        "# Algoritmo evolutivo\n",
        "def evolutionary_prime_search(pop_size=POP_SIZE, min_val=MIN_VAL, max_val=MAX_VAL, generations=GEN):\n",
        "    population = init_population(pop_size, min_val, max_val)\n",
        "\n",
        "    # Adicionando pra poder plotar\n",
        "    avg_fitnesses = []\n",
        "    best_fitnesses = []\n",
        "    initial_fitnesses = []\n",
        "\n",
        "    for gen in range(generations):\n",
        "        fitnesses =  [fitness(ind) for ind in population]\n",
        "        if gen == 0:\n",
        "          initial_fitnesses = fitnesses\n",
        "\n",
        "        avg_fitness = sum(fitnesses) / len(fitnesses)\n",
        "        best_idx = fitnesses.index(max(fitnesses))\n",
        "        best_ind = population[best_idx]\n",
        "        best_fit = fitnesses[best_idx]\n",
        "\n",
        "        # Atualizando as listas\n",
        "        avg_fitnesses.append(avg_fitness)\n",
        "        best_fitnesses.append(best_fit)\n",
        "\n",
        "\n",
        "        print(f\"Geração {gen}: Melhor fitness = {best_fit:.5f}, Melhor indivíduo = {best_ind}\")\n",
        "\n",
        "        if best_fit == 1000:\n",
        "            print(f\"\\n✅ Primo encontrado na geração {gen}: {best_ind}\")\n",
        "            return avg_fitnesses, best_fitnesses, initial_fitnesses\n",
        "\n",
        "        # Seleção\n",
        "        selected = selection(population, fitnesses)\n",
        "        print(selected)\n",
        "        p1 = selected[0][0]\n",
        "        p2 = selected[1][0]\n",
        "\n",
        "        # Crossover com reposição até manter o tamanho original\n",
        "        next_population = []\n",
        "        while len(next_population) < pop_size:\n",
        "            child = crossover(p1, p2)\n",
        "            next_population.append(child)\n",
        "\n",
        "        # Mutação\n",
        "        population = [mutate(ind) for ind in next_population]\n",
        "\n",
        "    print(\"\\n❌ Nenhum primo encontrado após todas as gerações.\")\n",
        "    return avg_fitnesses, best_fitnesses, initial_fitnesses\n"
      ]
    },
    {
      "cell_type": "code",
      "execution_count": null,
      "metadata": {
        "id": "v9TLnA5AFOjj"
      },
      "outputs": [],
      "source": [
        "# Executa o algoritmo\n",
        "evolutionary_prime_search()"
      ]
    },
    {
      "cell_type": "markdown",
      "metadata": {
        "id": "zxMdO7MKiKX6"
      },
      "source": [
        "### Análise\n",
        "Vamos criar métodos pra rodar simulações do algoritmo e visualizar seus resultados, a partir dos arrays que estamos atualizando de best_fitnesses e avg_fitnesses:"
      ]
    },
    {
      "cell_type": "code",
      "execution_count": 44,
      "metadata": {
        "id": "ehu7C28YiKX6"
      },
      "outputs": [],
      "source": [
        "def run_simulations(num_simulations):\n",
        "    all_avg_curves = []\n",
        "    all_best_curves = []\n",
        "    all_initial_fitnesses = []\n",
        "\n",
        "    for _ in range(num_simulations):\n",
        "        avg_curve, best_curve, initial_fitnesses = evolutionary_prime_search()\n",
        "        all_avg_curves.append(avg_curve)\n",
        "        all_best_curves.append(best_curve)\n",
        "        all_initial_fitnesses.append(initial_fitnesses)\n",
        "\n",
        "    return all_avg_curves, all_best_curves, all_initial_fitnesses"
      ]
    },
    {
      "cell_type": "markdown",
      "metadata": {
        "id": "gId6GNNyiKX6"
      },
      "source": [
        "Criando nossos gráficos pra visualizar:"
      ]
    },
    {
      "cell_type": "code",
      "execution_count": 48,
      "metadata": {
        "id": "fsHQ9doAiKX6"
      },
      "outputs": [],
      "source": [
        "import matplotlib.pyplot as plt\n",
        "import numpy as np\n",
        "\n",
        "# Pra visualizar a máx e médio fitness por geração\n",
        "def plot_avg_curves(avg_curves, best_curves):\n",
        "    max_generations = max(len(c) for c in avg_curves)\n",
        "\n",
        "    for i in range(len(avg_curves)):\n",
        "        last_avg = avg_curves[i][-1]\n",
        "        last_best = best_curves[i][-1]\n",
        "        while len(avg_curves[i]) < max_generations:\n",
        "            avg_curves[i].append(last_avg)\n",
        "            best_curves[i].append(last_best)\n",
        "\n",
        "    mean_avg = np.mean(avg_curves, axis=0)\n",
        "    mean_best = np.mean(best_curves, axis=0)\n",
        "\n",
        "    plt.figure(figsize=(12, 5))\n",
        "\n",
        "    plt.subplot(1, 2, 1)\n",
        "    plt.plot(mean_avg, label='Fitness Médio')\n",
        "    plt.xlabel(\"Geração\")\n",
        "    plt.ylabel(\"Fitness Médio\")\n",
        "    plt.title(\"Fitness Médio por Geração (média das simulações)\")\n",
        "    plt.grid(True)\n",
        "    plt.legend()\n",
        "\n",
        "    plt.subplot(1, 2, 2)\n",
        "    plt.plot(mean_best, label='Melhor Fitness', color='orange')\n",
        "    plt.xlabel(\"Geração\")\n",
        "    plt.ylabel(\"Melhor Fitness\")\n",
        "    plt.title(\"Melhor Fitness por Geração (média das simulações)\")\n",
        "    plt.grid(True)\n",
        "    plt.legend()\n",
        "\n",
        "    plt.tight_layout()\n",
        "    plt.show()\n"
      ]
    },
    {
      "cell_type": "code",
      "source": [
        "# Pra visualizar o fitness inicial (por estarmos convergindo rápido)\n",
        "def plot_initial_fitness_box(all_initial_fitnesses):\n",
        "    plt.boxplot(all_initial_fitnesses)\n",
        "    plt.title(\"Distribuição do fitness na geração inicial\")\n",
        "    plt.ylabel(\"Fitness\")\n",
        "    plt.grid(True)\n",
        "    plt.show()"
      ],
      "metadata": {
        "id": "p79jmMw4pExL"
      },
      "execution_count": 47,
      "outputs": []
    },
    {
      "cell_type": "markdown",
      "metadata": {
        "id": "wLvc5OEMiKX6"
      },
      "source": [
        "Rodando a simulação 30 vezes:"
      ]
    },
    {
      "cell_type": "code",
      "execution_count": 49,
      "metadata": {
        "id": "8aBSKcQJiKX6",
        "outputId": "503ceeb4-7812-45a1-efcd-d30f4460230b",
        "colab": {
          "base_uri": "https://localhost:8080/",
          "height": 321
        }
      },
      "outputs": [
        {
          "output_type": "error",
          "ename": "KeyboardInterrupt",
          "evalue": "",
          "traceback": [
            "\u001b[0;31m---------------------------------------------------------------------------\u001b[0m",
            "\u001b[0;31mKeyboardInterrupt\u001b[0m                         Traceback (most recent call last)",
            "\u001b[0;32m<ipython-input-49-1641095463>\u001b[0m in \u001b[0;36m<cell line: 0>\u001b[0;34m()\u001b[0m\n\u001b[1;32m      1\u001b[0m \u001b[0mnum_sim\u001b[0m \u001b[0;34m=\u001b[0m \u001b[0;36m30\u001b[0m\u001b[0;34m\u001b[0m\u001b[0;34m\u001b[0m\u001b[0m\n\u001b[0;32m----> 2\u001b[0;31m \u001b[0mavg_curves\u001b[0m\u001b[0;34m,\u001b[0m \u001b[0mbest_curves\u001b[0m\u001b[0;34m,\u001b[0m \u001b[0minitial_fitnesses\u001b[0m \u001b[0;34m=\u001b[0m \u001b[0mrun_simulations\u001b[0m\u001b[0;34m(\u001b[0m\u001b[0mnum_sim\u001b[0m\u001b[0;34m)\u001b[0m\u001b[0;34m\u001b[0m\u001b[0;34m\u001b[0m\u001b[0m\n\u001b[0m\u001b[1;32m      3\u001b[0m \u001b[0mplot_avg_curves\u001b[0m\u001b[0;34m(\u001b[0m\u001b[0mavg_curves\u001b[0m\u001b[0;34m,\u001b[0m \u001b[0mbest_curves\u001b[0m\u001b[0;34m)\u001b[0m\u001b[0;34m\u001b[0m\u001b[0;34m\u001b[0m\u001b[0m\n\u001b[1;32m      4\u001b[0m \u001b[0mplot_initial_fitness_box\u001b[0m\u001b[0;34m(\u001b[0m\u001b[0minitial_fitnesses\u001b[0m\u001b[0;34m)\u001b[0m\u001b[0;34m\u001b[0m\u001b[0;34m\u001b[0m\u001b[0m\n",
            "\u001b[0;32m<ipython-input-44-1831513285>\u001b[0m in \u001b[0;36mrun_simulations\u001b[0;34m(num_simulations)\u001b[0m\n\u001b[1;32m      5\u001b[0m \u001b[0;34m\u001b[0m\u001b[0m\n\u001b[1;32m      6\u001b[0m     \u001b[0;32mfor\u001b[0m \u001b[0m_\u001b[0m \u001b[0;32min\u001b[0m \u001b[0mrange\u001b[0m\u001b[0;34m(\u001b[0m\u001b[0mnum_simulations\u001b[0m\u001b[0;34m)\u001b[0m\u001b[0;34m:\u001b[0m\u001b[0;34m\u001b[0m\u001b[0;34m\u001b[0m\u001b[0m\n\u001b[0;32m----> 7\u001b[0;31m         \u001b[0mavg_curve\u001b[0m\u001b[0;34m,\u001b[0m \u001b[0mbest_curve\u001b[0m\u001b[0;34m,\u001b[0m \u001b[0minitial_fitnesses\u001b[0m \u001b[0;34m=\u001b[0m \u001b[0mevolutionary_prime_search\u001b[0m\u001b[0;34m(\u001b[0m\u001b[0;34m)\u001b[0m\u001b[0;34m\u001b[0m\u001b[0;34m\u001b[0m\u001b[0m\n\u001b[0m\u001b[1;32m      8\u001b[0m         \u001b[0mall_avg_curves\u001b[0m\u001b[0;34m.\u001b[0m\u001b[0mappend\u001b[0m\u001b[0;34m(\u001b[0m\u001b[0mavg_curve\u001b[0m\u001b[0;34m)\u001b[0m\u001b[0;34m\u001b[0m\u001b[0;34m\u001b[0m\u001b[0m\n\u001b[1;32m      9\u001b[0m         \u001b[0mall_best_curves\u001b[0m\u001b[0;34m.\u001b[0m\u001b[0mappend\u001b[0m\u001b[0;34m(\u001b[0m\u001b[0mbest_curve\u001b[0m\u001b[0;34m)\u001b[0m\u001b[0;34m\u001b[0m\u001b[0;34m\u001b[0m\u001b[0m\n",
            "\u001b[0;32m<ipython-input-42-2799882245>\u001b[0m in \u001b[0;36mevolutionary_prime_search\u001b[0;34m(pop_size, min_val, max_val, generations)\u001b[0m\n\u001b[1;32m      9\u001b[0m \u001b[0;34m\u001b[0m\u001b[0m\n\u001b[1;32m     10\u001b[0m     \u001b[0;32mfor\u001b[0m \u001b[0mind\u001b[0m \u001b[0;32min\u001b[0m \u001b[0mpopulation\u001b[0m\u001b[0;34m:\u001b[0m\u001b[0;34m\u001b[0m\u001b[0;34m\u001b[0m\u001b[0m\n\u001b[0;32m---> 11\u001b[0;31m         \u001b[0minitial_fitnesses\u001b[0m\u001b[0;34m.\u001b[0m\u001b[0mappend\u001b[0m\u001b[0;34m(\u001b[0m\u001b[0mfitness\u001b[0m\u001b[0;34m(\u001b[0m\u001b[0mind\u001b[0m\u001b[0;34m)\u001b[0m\u001b[0;34m)\u001b[0m\u001b[0;34m\u001b[0m\u001b[0;34m\u001b[0m\u001b[0m\n\u001b[0m\u001b[1;32m     12\u001b[0m \u001b[0;34m\u001b[0m\u001b[0m\n\u001b[1;32m     13\u001b[0m     \u001b[0;32mfor\u001b[0m \u001b[0mgen\u001b[0m \u001b[0;32min\u001b[0m \u001b[0mrange\u001b[0m\u001b[0;34m(\u001b[0m\u001b[0mgenerations\u001b[0m\u001b[0;34m)\u001b[0m\u001b[0;34m:\u001b[0m\u001b[0;34m\u001b[0m\u001b[0;34m\u001b[0m\u001b[0m\n",
            "\u001b[0;32m<ipython-input-27-1420244671>\u001b[0m in \u001b[0;36mfitness\u001b[0;34m(n)\u001b[0m\n\u001b[1;32m     13\u001b[0m         \u001b[0;32mreturn\u001b[0m \u001b[0;36m1000\u001b[0m\u001b[0;34m\u001b[0m\u001b[0;34m\u001b[0m\u001b[0m\n\u001b[1;32m     14\u001b[0m     \u001b[0;32melse\u001b[0m\u001b[0;34m:\u001b[0m\u001b[0;34m\u001b[0m\u001b[0;34m\u001b[0m\u001b[0m\n\u001b[0;32m---> 15\u001b[0;31m         \u001b[0mdivisores\u001b[0m \u001b[0;34m=\u001b[0m \u001b[0msum\u001b[0m\u001b[0;34m(\u001b[0m\u001b[0;36m1\u001b[0m \u001b[0;32mfor\u001b[0m \u001b[0mi\u001b[0m \u001b[0;32min\u001b[0m \u001b[0mrange\u001b[0m\u001b[0;34m(\u001b[0m\u001b[0;36m2\u001b[0m\u001b[0;34m,\u001b[0m \u001b[0mn\u001b[0m\u001b[0;34m)\u001b[0m \u001b[0;32mif\u001b[0m \u001b[0mn\u001b[0m \u001b[0;34m%\u001b[0m \u001b[0mi\u001b[0m \u001b[0;34m==\u001b[0m \u001b[0;36m0\u001b[0m\u001b[0;34m)\u001b[0m\u001b[0;34m\u001b[0m\u001b[0;34m\u001b[0m\u001b[0m\n\u001b[0m\u001b[1;32m     16\u001b[0m         \u001b[0;32mreturn\u001b[0m \u001b[0;36m1\u001b[0m \u001b[0;34m/\u001b[0m \u001b[0;34m(\u001b[0m\u001b[0mdivisores\u001b[0m \u001b[0;34m+\u001b[0m \u001b[0;36m1\u001b[0m\u001b[0;34m)\u001b[0m\u001b[0;34m\u001b[0m\u001b[0;34m\u001b[0m\u001b[0m\n",
            "\u001b[0;32m<ipython-input-27-1420244671>\u001b[0m in \u001b[0;36m<genexpr>\u001b[0;34m(.0)\u001b[0m\n\u001b[1;32m     13\u001b[0m         \u001b[0;32mreturn\u001b[0m \u001b[0;36m1000\u001b[0m\u001b[0;34m\u001b[0m\u001b[0;34m\u001b[0m\u001b[0m\n\u001b[1;32m     14\u001b[0m     \u001b[0;32melse\u001b[0m\u001b[0;34m:\u001b[0m\u001b[0;34m\u001b[0m\u001b[0;34m\u001b[0m\u001b[0m\n\u001b[0;32m---> 15\u001b[0;31m         \u001b[0mdivisores\u001b[0m \u001b[0;34m=\u001b[0m \u001b[0msum\u001b[0m\u001b[0;34m(\u001b[0m\u001b[0;36m1\u001b[0m \u001b[0;32mfor\u001b[0m \u001b[0mi\u001b[0m \u001b[0;32min\u001b[0m \u001b[0mrange\u001b[0m\u001b[0;34m(\u001b[0m\u001b[0;36m2\u001b[0m\u001b[0;34m,\u001b[0m \u001b[0mn\u001b[0m\u001b[0;34m)\u001b[0m \u001b[0;32mif\u001b[0m \u001b[0mn\u001b[0m \u001b[0;34m%\u001b[0m \u001b[0mi\u001b[0m \u001b[0;34m==\u001b[0m \u001b[0;36m0\u001b[0m\u001b[0;34m)\u001b[0m\u001b[0;34m\u001b[0m\u001b[0;34m\u001b[0m\u001b[0m\n\u001b[0m\u001b[1;32m     16\u001b[0m         \u001b[0;32mreturn\u001b[0m \u001b[0;36m1\u001b[0m \u001b[0;34m/\u001b[0m \u001b[0;34m(\u001b[0m\u001b[0mdivisores\u001b[0m \u001b[0;34m+\u001b[0m \u001b[0;36m1\u001b[0m\u001b[0;34m)\u001b[0m\u001b[0;34m\u001b[0m\u001b[0;34m\u001b[0m\u001b[0m\n",
            "\u001b[0;31mKeyboardInterrupt\u001b[0m: "
          ]
        }
      ],
      "source": [
        "num_sim = 30\n",
        "avg_curves, best_curves, initial_fitnesses = run_simulations(num_sim)\n",
        "plot_avg_curves(avg_curves, best_curves)\n",
        "plot_initial_fitness_box(initial_fitnesses)"
      ]
    },
    {
      "cell_type": "code",
      "source": [],
      "metadata": {
        "id": "BObkANqUnu5L",
        "outputId": "e9eb8137-4c75-4d68-cd26-7187e4c31402",
        "colab": {
          "base_uri": "https://localhost:8080/",
          "height": 210
        }
      },
      "execution_count": 36,
      "outputs": [
        {
          "output_type": "error",
          "ename": "NameError",
          "evalue": "name 'fitnesses_iniciais' is not defined",
          "traceback": [
            "\u001b[0;31m---------------------------------------------------------------------------\u001b[0m",
            "\u001b[0;31mNameError\u001b[0m                                 Traceback (most recent call last)",
            "\u001b[0;32m<ipython-input-36-2338686927>\u001b[0m in \u001b[0;36m<cell line: 0>\u001b[0;34m()\u001b[0m\n\u001b[0;32m----> 1\u001b[0;31m \u001b[0mplt\u001b[0m\u001b[0;34m.\u001b[0m\u001b[0mboxplot\u001b[0m\u001b[0;34m(\u001b[0m\u001b[0mfitnesses_iniciais\u001b[0m\u001b[0;34m)\u001b[0m\u001b[0;34m\u001b[0m\u001b[0;34m\u001b[0m\u001b[0m\n\u001b[0m\u001b[1;32m      2\u001b[0m \u001b[0mplt\u001b[0m\u001b[0;34m.\u001b[0m\u001b[0mtitle\u001b[0m\u001b[0;34m(\u001b[0m\u001b[0;34m\"Distribuição do fitness na geração inicial\"\u001b[0m\u001b[0;34m)\u001b[0m\u001b[0;34m\u001b[0m\u001b[0;34m\u001b[0m\u001b[0m\n\u001b[1;32m      3\u001b[0m \u001b[0mplt\u001b[0m\u001b[0;34m.\u001b[0m\u001b[0mylabel\u001b[0m\u001b[0;34m(\u001b[0m\u001b[0;34m\"Fitness\"\u001b[0m\u001b[0;34m)\u001b[0m\u001b[0;34m\u001b[0m\u001b[0;34m\u001b[0m\u001b[0m\n\u001b[1;32m      4\u001b[0m \u001b[0mplt\u001b[0m\u001b[0;34m.\u001b[0m\u001b[0mgrid\u001b[0m\u001b[0;34m(\u001b[0m\u001b[0;32mTrue\u001b[0m\u001b[0;34m)\u001b[0m\u001b[0;34m\u001b[0m\u001b[0;34m\u001b[0m\u001b[0m\n\u001b[1;32m      5\u001b[0m \u001b[0mplt\u001b[0m\u001b[0;34m.\u001b[0m\u001b[0mshow\u001b[0m\u001b[0;34m(\u001b[0m\u001b[0;34m)\u001b[0m\u001b[0;34m\u001b[0m\u001b[0;34m\u001b[0m\u001b[0m\n",
            "\u001b[0;31mNameError\u001b[0m: name 'fitnesses_iniciais' is not defined"
          ]
        }
      ]
    }
  ],
  "metadata": {
    "colab": {
      "provenance": [],
      "gpuType": "T4",
      "include_colab_link": true
    },
    "kernelspec": {
      "display_name": "Python 3",
      "name": "python3"
    },
    "language_info": {
      "codemirror_mode": {
        "name": "ipython",
        "version": 3
      },
      "file_extension": ".py",
      "mimetype": "text/x-python",
      "name": "python",
      "nbconvert_exporter": "python",
      "pygments_lexer": "ipython3",
      "version": "3.11.2"
    },
    "accelerator": "GPU"
  },
  "nbformat": 4,
  "nbformat_minor": 0
}